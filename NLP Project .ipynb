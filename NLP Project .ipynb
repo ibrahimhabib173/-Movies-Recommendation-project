{
 "cells": [
  {
   "cell_type": "code",
   "execution_count": 1,
   "id": "47b19b7d",
   "metadata": {},
   "outputs": [],
   "source": [
    "# import library\n",
    "import pandas as pd\n",
    "import numpy as np\n",
    "import nltk\n",
    "import nltk\n",
    "#nltk.download('punkt')\n",
    "#nltk.download('wordnet')\n",
    "#nltk.download('stopwords')\n",
    "from nltk.stem import WordNetLemmatizer\n",
    "lemmatizer = WordNetLemmatizer()  \n",
    "from nltk.corpus import stopwords\n",
    "from sklearn.feature_extraction.text import TfidfVectorizer\n",
    "from sklearn.metrics.pairwise import cosine_similarity\n"
   ]
  },
  {
   "cell_type": "code",
   "execution_count": 2,
   "id": "0ca0a3f6",
   "metadata": {},
   "outputs": [
    {
     "name": "stdout",
     "output_type": "stream",
     "text": [
      "350\n"
     ]
    },
    {
     "data": {
      "text/plain": [
       "'Casey Cooke is an emotionally withdrawn teenager, having been molested as a child by her uncle John, who became her legal guardian after her father\\'s death. While hanging out with her classmates, Claire and Marcia, the three are kidnapped by Kevin Wendell Crumb, a man suffering from dissociative identity disorder. Kevin has been evaluated by psychologist Dr. Karen Fletcher, who discovered that he formed multiple personalities as a means to cope with the abuse he suffered at the hands of his mother. While Kevin appears otherwise stable, Dr. Fletcher has identified 23 distinct personalities within Kevin; in his mind, these personalities sit in chairs in a room, waiting for their turn \"in the light\" (controlling Kevin\\'s body) as directed by \"Barry\", the dominant personality. She has also found that Kevin\\'s physiology changes when a new personality comes into the light. Recently, \"Barry\" has refused to allow \"Dennis\" or \"Patricia\" their turns, in part due to Dennis\\' tendencies towards bothering underage girls and Patricia\\'s undesirable traits, and also because both appear to worship \"The Beast\", a yet-unseen 24th personality. Regardless of which personality is controlling Kevin, Dr. Fletcher can call forth Kevin\\'s own personality by speaking his full name to him.\\r\\nKevin takes the girls to his underground quarters and secures them in a cell. They recognize his dissociative disorder, and Claire attempts to use this against Kevin to escape but is caught by \"Dennis\" and segregated from the others. Over several days, Kevin leaves them locked up while he goes off to work and attends appointments with Dr. Fletcher. During these meetings, Dr. Fletcher recognizes that \"Dennis\" has seemingly taken over the dominant personality from \"Barry\", though he tries to act as \"Barry\" to fool her. She recalls an incident that \"Barry\" told her about a month before, where two teenage girls had walked up to him, taken his hands and placed them on their breasts, which may have triggered \"Dennis\" to take over. Dr. Fletcher suspects that Kevin, as \"Dennis\", is responsible for the three missing teenagers.\\r\\nDuring this time, Marcia also attempts to escape but is caught by \"Patricia\" and segregated. Casey befriends \"Hedwig\", a young boy personality of Kevin\\'s; it is later revealed that \"Hedwig\" has complete control over \"the light\", and has provided \"Dennis\" and \"Patricia\" with control. She gets \"Hedwig\" to let her out of her cell to see his bedroom, believing that there may be a means of escape through \"Hedwig\\'s\" window but finds that it is only a drawing of a window. She is able to convince \"Hedwig\" to give her a walkie-talkie. She uses it to call for help, but the person at the other end of the walkie doesn\\'t believe her, thinking that someone is playing a joke. Before she can convince the person that she is serious, \"Patricia\" takes over Kevin\\'s body and subdues Casey.\\r\\nDr. Fletcher shows up at Kevin\\'s home, where he reveals that \"The Beast\" is real and that he has met him. Suspicious of \"Dennis\", Dr. Fletcher feigns needing the bathroom to look around his home, where she finds Claire in her cell, but before she can do anything, \"Dennis\" catches her, sprays her face with a sedative in an aerosol can, and secures her in a separate room. He then leaves. While out, \"The Beast\" personality takes over for the first time, giving Kevin super-human abilities, while Claire and Marcia attempt to escape from their cells. Dr. Fletcher regains consciousness long enough to write out Kevin\\'s full name on a piece of paper before \"The Beast\" returns and kills her. Casey escapes from her cell, only to find that \"The Beast\" has already attacked and eaten Marcia and watches in horror as he does the same to Claire.\\r\\nCasey finds Dr. Fletcher\\'s body and her note on the piece of paper. \"The Beast\" approaches her, but she calls out Kevin\\'s full name, bringing Kevin forth. Upon learning of the situation and realizing that he hasn\\'t been in control of his body for two years, Kevin instructs Casey to kill him with his shotgun. Following this statement, all 24 personalities begin warring for control of \"the light\", but shortly thereafter \"The Beast\" personality takes hold again. Casey escapes from his quarters into an underground tunnel and shoots him twice, but the shells have little effect. She locks herself in a small caged area. \"The Beast\" finds her and is about to pull the bars open to attack her but sees faded scars across her body, a sign of her past emotional turmoil and self-harm. Having previously declared his plans to rid the world of the \"untouched\", those whose hearts are impure because they have never suffered in their lives, he considers Casey to be \"pure\" and spares her, disappearing from the tunnels.\\r\\nSometime later, Casey is rescued and learns that she was being held at the Philadelphia Zoo, where Kevin had been an employee. Casey is asked by a police officer if she is ready to return home with her uncle. She hesitates to answer. In another hideout, \"Dennis\", \"Patricia\", and \"Hedwig\" exert collective control over Kevin\\'s body and admire the power of \"The Beast\" and their plans to change the world.\\r\\nIn a diner, several patrons watch the news as a reporter states that Kevin\\'s personalities have earned him the nickname \"The Horde\". A female patron notes the similarity between Kevin and a wheelchair-using criminal who was incarcerated 15 years earlier. As she tries to remember the nickname he was given, the man sitting next to her tells her that it was \"Mr. Glass\".'"
      ]
     },
     "execution_count": 2,
     "metadata": {},
     "output_type": "execute_result"
    }
   ],
   "source": [
    "# read dataset and known shape \n",
    "# Data Acquisition\n",
    "data = pd.read_csv(\"wiki_movie_plots_deduped.csv\")\n",
    "data.head()\n",
    "data.shape\n",
    "\n",
    " # make the Origin/Ethnicity is special\n",
    "np.unique(data['Origin/Ethnicity'])\n",
    "\n",
    " # Choose part of data\n",
    "part_data= data.loc[(data['Origin/Ethnicity']=='American') & (data['Release Year']>2015)]\n",
    "print(len(part_data))\n",
    " # data frame to make data in table \n",
    "my_data = pd.DataFrame(part_data) \n",
    " # default show firt 5 row of data\n",
    "my_data.head()                     \n",
    "\n",
    " #make the final data to test .. final_data is title and discreption of film\n",
    "final_data=my_data[['Title','Plot']]    \n",
    " # make index in title column\n",
    "final_data=final_data.set_index('Title') \n",
    "\n",
    "\n",
    " # default show firt 5 row of data\n",
    "final_data.head()                       \n",
    " # show discreption of Broken Flowers film for test \n",
    "final_data[\"Plot\"][\"Split\"]     "
   ]
  },
  {
   "cell_type": "code",
   "execution_count": 3,
   "id": "89b7703e",
   "metadata": {},
   "outputs": [
    {
     "data": {
      "text/html": [
       "<div>\n",
       "<style scoped>\n",
       "    .dataframe tbody tr th:only-of-type {\n",
       "        vertical-align: middle;\n",
       "    }\n",
       "\n",
       "    .dataframe tbody tr th {\n",
       "        vertical-align: top;\n",
       "    }\n",
       "\n",
       "    .dataframe thead th {\n",
       "        text-align: right;\n",
       "    }\n",
       "</style>\n",
       "<table border=\"1\" class=\"dataframe\">\n",
       "  <thead>\n",
       "    <tr style=\"text-align: right;\">\n",
       "      <th></th>\n",
       "      <th>Plot</th>\n",
       "      <th>new_plot</th>\n",
       "    </tr>\n",
       "    <tr>\n",
       "      <th>Title</th>\n",
       "      <th></th>\n",
       "      <th></th>\n",
       "    </tr>\n",
       "  </thead>\n",
       "  <tbody>\n",
       "    <tr>\n",
       "      <th>The Forest</th>\n",
       "      <td>The majority of the story is set in and around...</td>\n",
       "      <td>majority story set around aokigahara forest , ...</td>\n",
       "    </tr>\n",
       "    <tr>\n",
       "      <th>Anesthesia</th>\n",
       "      <td>Philosophy professor Walter Zarrow is wounded ...</td>\n",
       "      <td>philosophy professor walter zarrow wounded mug...</td>\n",
       "    </tr>\n",
       "    <tr>\n",
       "      <th>Lamb</th>\n",
       "      <td>The film opens with David Lamb (Ross Partridge...</td>\n",
       "      <td>film open david lamb ( ross partridge ) visiti...</td>\n",
       "    </tr>\n",
       "    <tr>\n",
       "      <th>Ride Along 2</th>\n",
       "      <td>The film starts in Miami on the boat of crime ...</td>\n",
       "      <td>film start miami boat crime lord antonio pope ...</td>\n",
       "    </tr>\n",
       "    <tr>\n",
       "      <th>13 Hours: The Secret Soldiers of Benghazi</th>\n",
       "      <td>In 2012, Benghazi, Libya is named one of the m...</td>\n",
       "      <td>2012 , benghazi , libya named one dangerous pl...</td>\n",
       "    </tr>\n",
       "  </tbody>\n",
       "</table>\n",
       "</div>"
      ],
      "text/plain": [
       "                                                                                        Plot  \\\n",
       "Title                                                                                          \n",
       "The Forest                                 The majority of the story is set in and around...   \n",
       "Anesthesia                                 Philosophy professor Walter Zarrow is wounded ...   \n",
       "Lamb                                       The film opens with David Lamb (Ross Partridge...   \n",
       "Ride Along 2                               The film starts in Miami on the boat of crime ...   \n",
       "13 Hours: The Secret Soldiers of Benghazi  In 2012, Benghazi, Libya is named one of the m...   \n",
       "\n",
       "                                                                                    new_plot  \n",
       "Title                                                                                         \n",
       "The Forest                                 majority story set around aokigahara forest , ...  \n",
       "Anesthesia                                 philosophy professor walter zarrow wounded mug...  \n",
       "Lamb                                       film open david lamb ( ross partridge ) visiti...  \n",
       "Ride Along 2                               film start miami boat crime lord antonio pope ...  \n",
       "13 Hours: The Secret Soldiers of Benghazi  2012 , benghazi , libya named one dangerous pl...  "
      ]
     },
     "execution_count": 3,
     "metadata": {},
     "output_type": "execute_result"
    }
   ],
   "source": [
    "# preprocessing and clean up data\n",
    "def preprocessing (data):\n",
    "     # convert data to lower case\n",
    "    data = data.lower()\n",
    "    \n",
    "     # tokenize data into words\n",
    "    words = nltk.word_tokenize(data)\n",
    "     # make a lemmatization to return words to base form\n",
    "    lemmatizer = WordNetLemmatizer()  \n",
    "     # remove the stop words from text too\n",
    "    sent=[lemmatizer.lemmatize(word) for word in words \n",
    "          if word not in stopwords.words('english')]\n",
    "     # add space between sentence\n",
    "    final_sent = ' '.join(sent)   \n",
    "    \n",
    "     # replace an abbriviation to the base \n",
    "    final_sent = final_sent.replace(\"n't\", \" not\")\n",
    "    final_sent = final_sent.replace(\"'m\", \" am\")\n",
    "    final_sent = final_sent.replace(\"'s\", \" is\")\n",
    "    final_sent = final_sent.replace(\"'re\", \" are\")\n",
    "    final_sent = final_sent.replace(\"'ll\", \" will\")\n",
    "    final_sent = final_sent.replace(\"'ve\", \" have\")\n",
    "    final_sent = final_sent.replace(\"'d\", \" would\")\n",
    "    \n",
    "    return final_sent\n",
    " # apllay the preprocessing function on text\n",
    "final_data[\"new_plot\"]= final_data[\"Plot\"].apply(preprocessing)\n",
    " # display the head of data ( default is 5 record )\n",
    "final_data.head()"
   ]
  },
  {
   "cell_type": "code",
   "execution_count": 4,
   "id": "ef55f2b3",
   "metadata": {},
   "outputs": [],
   "source": [
    "\n",
    "# TF_IDF Methode to determine similarity\n",
    "\n",
    "# import the tf-idf from sklearn\n",
    "from sklearn.feature_extraction.text import TfidfVectorizer\n",
    "# get object of tf-idf vectorizer\n",
    "tfidf = TfidfVectorizer()\n",
    "# make a Training with fit_transform\n",
    "tfidf_movieid = tfidf.fit_transform((final_data[\"new_plot\"])) # make a Training with fit_transform\n",
    "# import the cosine similarity from metrics to calc similarity\n",
    "from sklearn.metrics.pairwise import cosine_similarity\n",
    "# calculate similarity \n",
    "similarity = cosine_similarity(tfidf_movieid, tfidf_movieid)\n"
   ]
  },
  {
   "cell_type": "code",
   "execution_count": 74,
   "id": "b8e8a0f1",
   "metadata": {},
   "outputs": [],
   "source": [
    "# function to make movies recomendation\n",
    "# get a list of index\n",
    "indices = pd.Series(final_data.index)    \n",
    "# based on name of film and similarity\n",
    "def movies_recommendation(title, cosine_similarity = similarity): \n",
    "    # apply try if right or similarity\n",
    "  try:\n",
    "    # get the index of the title\n",
    "    index = indices[indices == title].index[0]   \n",
    "    #print(index)\n",
    "    \n",
    "    # calculate the similarity score\n",
    "    similarity_scores = pd.Series(cosine_similarity[index]).sort_values(ascending = False) \n",
    "    rounded_Similarity=similarity_scores.round(3)\n",
    "    \n",
    "    #get the 5 films with same similarity\n",
    "    top_5_movies = list(similarity_scores.iloc[0:5].index) \n",
    "    \n",
    "    # print the similarity between films \n",
    "    print(f\"the Index of films that has similarity = {top_5_movies}\") # the index of films that has similarity \n",
    "    print(f\"the similarity score of films that has similarity = {list(rounded_Similarity.iloc[0:5])}\")\n",
    "    \n",
    "    # get list with 5 similarity films \n",
    "    #recommended_movies = [list(final_data.index)[i] for i in top_5_movies] \n",
    "    return pd.DataFrame({'Related Films':[list(final_data.index)[i] for i in top_5_movies]})\n",
    "\n",
    "\n",
    "    # apply catch if right or similarity\n",
    "  except:\n",
    "    print(\"No Result Founded\")  \n",
    "\n",
    "    \n",
    "    "
   ]
  },
  {
   "cell_type": "code",
   "execution_count": 75,
   "id": "eb7c894c",
   "metadata": {},
   "outputs": [
    {
     "name": "stdout",
     "output_type": "stream",
     "text": [
      "the Index of films that has similarity = [153, 75, 141, 275, 122]\n",
      "the similarity score of films that has similarity = [1.0, 0.074, 0.06, 0.048, 0.041]\n"
     ]
    },
    {
     "data": {
      "text/html": [
       "<div>\n",
       "<style scoped>\n",
       "    .dataframe tbody tr th:only-of-type {\n",
       "        vertical-align: middle;\n",
       "    }\n",
       "\n",
       "    .dataframe tbody tr th {\n",
       "        vertical-align: top;\n",
       "    }\n",
       "\n",
       "    .dataframe thead th {\n",
       "        text-align: right;\n",
       "    }\n",
       "</style>\n",
       "<table border=\"1\" class=\"dataframe\">\n",
       "  <thead>\n",
       "    <tr style=\"text-align: right;\">\n",
       "      <th></th>\n",
       "      <th>Related Films</th>\n",
       "    </tr>\n",
       "  </thead>\n",
       "  <tbody>\n",
       "    <tr>\n",
       "      <th>0</th>\n",
       "      <td>Youth in Oregon</td>\n",
       "    </tr>\n",
       "    <tr>\n",
       "      <th>1</th>\n",
       "      <td>Free State of Jones</td>\n",
       "    </tr>\n",
       "    <tr>\n",
       "      <th>2</th>\n",
       "      <td>100 Streets</td>\n",
       "    </tr>\n",
       "    <tr>\n",
       "      <th>3</th>\n",
       "      <td>The Good Catholic</td>\n",
       "    </tr>\n",
       "    <tr>\n",
       "      <th>4</th>\n",
       "      <td>Max Steel</td>\n",
       "    </tr>\n",
       "  </tbody>\n",
       "</table>\n",
       "</div>"
      ],
      "text/plain": [
       "         Related Films\n",
       "0      Youth in Oregon\n",
       "1  Free State of Jones\n",
       "2          100 Streets\n",
       "3    The Good Catholic\n",
       "4            Max Steel"
      ]
     },
     "execution_count": 75,
     "metadata": {},
     "output_type": "execute_result"
    }
   ],
   "source": [
    "# this function get one parameter (is the name of film)\n",
    "movies_recommendation(\"Youth in Oregon\")"
   ]
  },
  {
   "cell_type": "code",
   "execution_count": 70,
   "id": "fe76ab35",
   "metadata": {},
   "outputs": [
    {
     "name": "stdout",
     "output_type": "stream",
     "text": [
      "the Index of films that has similarity = [161, 211, 135, 148, 245]\n",
      "the Index of films that has similarity = [1.0, 0.115, 0.099, 0.07, 0.053]\n"
     ]
    },
    {
     "data": {
      "text/html": [
       "<div>\n",
       "<style scoped>\n",
       "    .dataframe tbody tr th:only-of-type {\n",
       "        vertical-align: middle;\n",
       "    }\n",
       "\n",
       "    .dataframe tbody tr th {\n",
       "        vertical-align: top;\n",
       "    }\n",
       "\n",
       "    .dataframe thead th {\n",
       "        text-align: right;\n",
       "    }\n",
       "</style>\n",
       "<table border=\"1\" class=\"dataframe\">\n",
       "  <thead>\n",
       "    <tr style=\"text-align: right;\">\n",
       "      <th></th>\n",
       "      <th>Related Films</th>\n",
       "    </tr>\n",
       "  </thead>\n",
       "  <tbody>\n",
       "    <tr>\n",
       "      <th>0</th>\n",
       "      <td>American Fable</td>\n",
       "    </tr>\n",
       "    <tr>\n",
       "      <th>1</th>\n",
       "      <td>Lowriders</td>\n",
       "    </tr>\n",
       "    <tr>\n",
       "      <th>2</th>\n",
       "      <td>23</td>\n",
       "    </tr>\n",
       "    <tr>\n",
       "      <th>3</th>\n",
       "      <td>A Dog's Purpose</td>\n",
       "    </tr>\n",
       "    <tr>\n",
       "      <th>4</th>\n",
       "      <td>A Ghost Story</td>\n",
       "    </tr>\n",
       "  </tbody>\n",
       "</table>\n",
       "</div>"
      ],
      "text/plain": [
       "     Related Films\n",
       "0   American Fable\n",
       "1        Lowriders\n",
       "2               23\n",
       "3  A Dog's Purpose\n",
       "4    A Ghost Story"
      ]
     },
     "execution_count": 70,
     "metadata": {},
     "output_type": "execute_result"
    }
   ],
   "source": [
    "# this function get one parameter (is the name of film)\n",
    "movies_recommendation(\"American Fable\")"
   ]
  },
  {
   "cell_type": "code",
   "execution_count": 76,
   "id": "06826df1",
   "metadata": {},
   "outputs": [
    {
     "name": "stdout",
     "output_type": "stream",
     "text": [
      "the Index of films that has similarity = [241, 72, 306, 290, 193]\n",
      "the similarity score of films that has similarity = [1.0, 0.111, 0.095, 0.083, 0.08]\n"
     ]
    },
    {
     "data": {
      "text/html": [
       "<div>\n",
       "<style scoped>\n",
       "    .dataframe tbody tr th:only-of-type {\n",
       "        vertical-align: middle;\n",
       "    }\n",
       "\n",
       "    .dataframe tbody tr th {\n",
       "        vertical-align: top;\n",
       "    }\n",
       "\n",
       "    .dataframe thead th {\n",
       "        text-align: right;\n",
       "    }\n",
       "</style>\n",
       "<table border=\"1\" class=\"dataframe\">\n",
       "  <thead>\n",
       "    <tr style=\"text-align: right;\">\n",
       "      <th></th>\n",
       "      <th>Related Films</th>\n",
       "    </tr>\n",
       "  </thead>\n",
       "  <tbody>\n",
       "    <tr>\n",
       "      <th>0</th>\n",
       "      <td>The House</td>\n",
       "    </tr>\n",
       "    <tr>\n",
       "      <th>1</th>\n",
       "      <td>Central Intelligence</td>\n",
       "    </tr>\n",
       "    <tr>\n",
       "      <th>2</th>\n",
       "      <td>The Killing of a Sacred Deer</td>\n",
       "    </tr>\n",
       "    <tr>\n",
       "      <th>3</th>\n",
       "      <td>The Mountain Between Us</td>\n",
       "    </tr>\n",
       "    <tr>\n",
       "      <th>4</th>\n",
       "      <td>Gifted</td>\n",
       "    </tr>\n",
       "  </tbody>\n",
       "</table>\n",
       "</div>"
      ],
      "text/plain": [
       "                  Related Films\n",
       "0                     The House\n",
       "1          Central Intelligence\n",
       "2  The Killing of a Sacred Deer\n",
       "3       The Mountain Between Us\n",
       "4                        Gifted"
      ]
     },
     "execution_count": 76,
     "metadata": {},
     "output_type": "execute_result"
    }
   ],
   "source": [
    "# this function get one parameter (is the name of film)\n",
    "movies_recommendation(\"The House\")"
   ]
  },
  {
   "cell_type": "code",
   "execution_count": 77,
   "id": "96d63b5b",
   "metadata": {},
   "outputs": [
    {
     "name": "stdout",
     "output_type": "stream",
     "text": [
      "the Index of films that has similarity = [157, 77, 105, 32, 139]\n",
      "the similarity score of films that has similarity = [1.0, 0.25, 0.238, 0.217, 0.12]\n"
     ]
    },
    {
     "data": {
      "text/html": [
       "<div>\n",
       "<style scoped>\n",
       "    .dataframe tbody tr th:only-of-type {\n",
       "        vertical-align: middle;\n",
       "    }\n",
       "\n",
       "    .dataframe tbody tr th {\n",
       "        vertical-align: top;\n",
       "    }\n",
       "\n",
       "    .dataframe thead th {\n",
       "        text-align: right;\n",
       "    }\n",
       "</style>\n",
       "<table border=\"1\" class=\"dataframe\">\n",
       "  <thead>\n",
       "    <tr style=\"text-align: right;\">\n",
       "      <th></th>\n",
       "      <th>Related Films</th>\n",
       "    </tr>\n",
       "  </thead>\n",
       "  <tbody>\n",
       "    <tr>\n",
       "      <th>0</th>\n",
       "      <td>John Wick: Chapter 2</td>\n",
       "    </tr>\n",
       "    <tr>\n",
       "      <th>1</th>\n",
       "      <td>The Legend of Tarzan</td>\n",
       "    </tr>\n",
       "    <tr>\n",
       "      <th>2</th>\n",
       "      <td>When the Bough Breaks</td>\n",
       "    </tr>\n",
       "    <tr>\n",
       "      <th>3</th>\n",
       "      <td>Hello, My Name Is Doris</td>\n",
       "    </tr>\n",
       "    <tr>\n",
       "      <th>4</th>\n",
       "      <td>The Bye Bye Man</td>\n",
       "    </tr>\n",
       "  </tbody>\n",
       "</table>\n",
       "</div>"
      ],
      "text/plain": [
       "             Related Films\n",
       "0     John Wick: Chapter 2\n",
       "1     The Legend of Tarzan\n",
       "2    When the Bough Breaks\n",
       "3  Hello, My Name Is Doris\n",
       "4          The Bye Bye Man"
      ]
     },
     "execution_count": 77,
     "metadata": {},
     "output_type": "execute_result"
    }
   ],
   "source": [
    "# this function get one parameter (is the name of film)\n",
    "movies_recommendation(\"John Wick: Chapter 2\")"
   ]
  },
  {
   "cell_type": "code",
   "execution_count": null,
   "id": "505352dd",
   "metadata": {},
   "outputs": [],
   "source": []
  }
 ],
 "metadata": {
  "kernelspec": {
   "display_name": "Python 3",
   "language": "python",
   "name": "python3"
  },
  "language_info": {
   "codemirror_mode": {
    "name": "ipython",
    "version": 3
   },
   "file_extension": ".py",
   "mimetype": "text/x-python",
   "name": "python",
   "nbconvert_exporter": "python",
   "pygments_lexer": "ipython3",
   "version": "3.8.8"
  }
 },
 "nbformat": 4,
 "nbformat_minor": 5
}
